{
 "cells": [
  {
   "cell_type": "code",
   "execution_count": 1,
   "id": "0c5251ba-8975-43cf-86ac-c51564b20930",
   "metadata": {},
   "outputs": [],
   "source": [
    "import argparse\n",
    "import os\n",
    "import re\n",
    "import sys"
   ]
  },
  {
   "cell_type": "code",
   "execution_count": 2,
   "id": "6b48e84f-b599-4db6-9207-03bd3a9b2ede",
   "metadata": {},
   "outputs": [],
   "source": [
    "from fastchat.model.model_adapter import add_model_args\n",
    "from fastchat.serve.cli import GraphingChatIO\n",
    "from fastchat.serve.inference import ChatIO, chat_loop\n",
    "from fastchat.utils import str_to_torch_dtype\n",
    "from fastchat.modules.gptq import GptqConfig\n",
    "from fastchat.modules.awq import AWQConfig\n"
   ]
  },
  {
   "cell_type": "code",
   "execution_count": 7,
   "id": "79dab882-f785-4db4-b5b6-479253343b00",
   "metadata": {},
   "outputs": [],
   "source": [
    "from fastchat.model.model_adapter import load_model"
   ]
  },
  {
   "cell_type": "code",
   "execution_count": 8,
   "id": "a4069519-1c70-41f8-8b99-5eebc2d18992",
   "metadata": {},
   "outputs": [
    {
     "name": "stderr",
     "output_type": "stream",
     "text": [
      "100%|█████████████████████████████████████████████████████████████████████████████████████████████████████████████████████████| 2/2 [00:43<00:00, 21.70s/it]\n"
     ]
    }
   ],
   "source": [
    "m, t = load_model(args.model_path,\n",
    "                device=args.device,\n",
    "                num_gpus=args.num_gpus, \n",
    "                max_gpu_memory=args.max_gpu_memory,\n",
    "                dtype=str_to_torch_dtype(args.dtype),\n",
    "                load_8bit=args.load_8bit,\n",
    "                cpu_offloading=args.cpu_offloading,\n",
    "                gptq_config=GptqConfig(\n",
    "                    ckpt=args.gptq_ckpt or args.model_path,\n",
    "                    wbits=args.gptq_wbits,\n",
    "                    groupsize=args.gptq_groupsize,\n",
    "                    act_order=args.gptq_act_order,\n",
    "                ),\n",
    "                awq_config=AWQConfig(\n",
    "                    ckpt=args.awq_ckpt or args.model_path,\n",
    "                    wbits=args.awq_wbits,\n",
    "                    groupsize=args.awq_groupsize,\n",
    "                ),\n",
    "                exllama_config=None,\n",
    "                xft_config=None,\n",
    "                revision=args.revision,\n",
    "                debug=args.debug)"
   ]
  },
  {
   "cell_type": "code",
   "execution_count": 40,
   "id": "13f359ab-6639-4478-a8e3-6a95a6e1fe07",
   "metadata": {},
   "outputs": [
    {
     "data": {
      "text/plain": [
       "['▁C', 'ITY']"
      ]
     },
     "execution_count": 40,
     "metadata": {},
     "output_type": "execute_result"
    }
   ],
   "source": [
    "t.tokenize(\"CITY\")"
   ]
  },
  {
   "cell_type": "code",
   "execution_count": 22,
   "id": "9a2f34b2-b4cc-4d19-9d83-9451e935587b",
   "metadata": {},
   "outputs": [],
   "source": [
    "del m\n",
    "del t"
   ]
  }
 ],
 "metadata": {
  "kernelspec": {
   "display_name": "Python 3 (ipykernel)",
   "language": "python",
   "name": "python3"
  },
  "language_info": {
   "codemirror_mode": {
    "name": "ipython",
    "version": 3
   },
   "file_extension": ".py",
   "mimetype": "text/x-python",
   "name": "python",
   "nbconvert_exporter": "python",
   "pygments_lexer": "ipython3",
   "version": "3.10.13"
  }
 },
 "nbformat": 4,
 "nbformat_minor": 5
}
